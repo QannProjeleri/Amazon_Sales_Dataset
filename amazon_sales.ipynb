{
 "cells": [
  {
   "cell_type": "code",
   "execution_count": 109,
   "metadata": {},
   "outputs": [],
   "source": [
    "import pandas as pd\n",
    "import numpy as np\n",
    "import matplotlib.pyplot as plt\n",
    "import seaborn as sns"
   ]
  },
  {
   "cell_type": "code",
   "execution_count": 110,
   "metadata": {},
   "outputs": [
    {
     "data": {
      "text/html": [
       "<div>\n",
       "<style scoped>\n",
       "    .dataframe tbody tr th:only-of-type {\n",
       "        vertical-align: middle;\n",
       "    }\n",
       "\n",
       "    .dataframe tbody tr th {\n",
       "        vertical-align: top;\n",
       "    }\n",
       "\n",
       "    .dataframe thead th {\n",
       "        text-align: right;\n",
       "    }\n",
       "</style>\n",
       "<table border=\"1\" class=\"dataframe\">\n",
       "  <thead>\n",
       "    <tr style=\"text-align: right;\">\n",
       "      <th></th>\n",
       "      <th>Order ID</th>\n",
       "      <th>Date</th>\n",
       "      <th>Status</th>\n",
       "      <th>Fulfilment</th>\n",
       "      <th>Sales Channel</th>\n",
       "      <th>ship-service-level</th>\n",
       "      <th>Category</th>\n",
       "      <th>Size</th>\n",
       "      <th>Courier Status</th>\n",
       "      <th>Qty</th>\n",
       "      <th>currency</th>\n",
       "      <th>Amount</th>\n",
       "      <th>ship-city</th>\n",
       "      <th>ship-state</th>\n",
       "      <th>ship-postal-code</th>\n",
       "      <th>ship-country</th>\n",
       "      <th>B2B</th>\n",
       "      <th>fulfilled-by</th>\n",
       "      <th>New</th>\n",
       "      <th>PendingS</th>\n",
       "    </tr>\n",
       "    <tr>\n",
       "      <th>index</th>\n",
       "      <th></th>\n",
       "      <th></th>\n",
       "      <th></th>\n",
       "      <th></th>\n",
       "      <th></th>\n",
       "      <th></th>\n",
       "      <th></th>\n",
       "      <th></th>\n",
       "      <th></th>\n",
       "      <th></th>\n",
       "      <th></th>\n",
       "      <th></th>\n",
       "      <th></th>\n",
       "      <th></th>\n",
       "      <th></th>\n",
       "      <th></th>\n",
       "      <th></th>\n",
       "      <th></th>\n",
       "      <th></th>\n",
       "      <th></th>\n",
       "    </tr>\n",
       "  </thead>\n",
       "  <tbody>\n",
       "    <tr>\n",
       "      <th>0</th>\n",
       "      <td>405-8078784-5731545</td>\n",
       "      <td>04-30-22</td>\n",
       "      <td>Cancelled</td>\n",
       "      <td>Merchant</td>\n",
       "      <td>Amazon.in</td>\n",
       "      <td>Standard</td>\n",
       "      <td>T-shirt</td>\n",
       "      <td>S</td>\n",
       "      <td>On the Way</td>\n",
       "      <td>0</td>\n",
       "      <td>INR</td>\n",
       "      <td>647.62</td>\n",
       "      <td>MUMBAI</td>\n",
       "      <td>MAHARASHTRA</td>\n",
       "      <td>400081.0</td>\n",
       "      <td>IN</td>\n",
       "      <td>False</td>\n",
       "      <td>Easy Ship</td>\n",
       "      <td>NaN</td>\n",
       "      <td>NaN</td>\n",
       "    </tr>\n",
       "    <tr>\n",
       "      <th>1</th>\n",
       "      <td>171-9198151-1101146</td>\n",
       "      <td>04-30-22</td>\n",
       "      <td>Shipped - Delivered to Buyer</td>\n",
       "      <td>Merchant</td>\n",
       "      <td>Amazon.in</td>\n",
       "      <td>Standard</td>\n",
       "      <td>Shirt</td>\n",
       "      <td>3XL</td>\n",
       "      <td>Shipped</td>\n",
       "      <td>1</td>\n",
       "      <td>INR</td>\n",
       "      <td>406.00</td>\n",
       "      <td>BENGALURU</td>\n",
       "      <td>KARNATAKA</td>\n",
       "      <td>560085.0</td>\n",
       "      <td>IN</td>\n",
       "      <td>False</td>\n",
       "      <td>Easy Ship</td>\n",
       "      <td>NaN</td>\n",
       "      <td>NaN</td>\n",
       "    </tr>\n",
       "    <tr>\n",
       "      <th>2</th>\n",
       "      <td>404-0687676-7273146</td>\n",
       "      <td>04-30-22</td>\n",
       "      <td>Shipped</td>\n",
       "      <td>Amazon</td>\n",
       "      <td>Amazon.in</td>\n",
       "      <td>Expedited</td>\n",
       "      <td>Shirt</td>\n",
       "      <td>XL</td>\n",
       "      <td>Shipped</td>\n",
       "      <td>1</td>\n",
       "      <td>INR</td>\n",
       "      <td>329.00</td>\n",
       "      <td>NAVI MUMBAI</td>\n",
       "      <td>MAHARASHTRA</td>\n",
       "      <td>410210.0</td>\n",
       "      <td>IN</td>\n",
       "      <td>True</td>\n",
       "      <td>NaN</td>\n",
       "      <td>NaN</td>\n",
       "      <td>NaN</td>\n",
       "    </tr>\n",
       "    <tr>\n",
       "      <th>3</th>\n",
       "      <td>403-9615377-8133951</td>\n",
       "      <td>04-30-22</td>\n",
       "      <td>Cancelled</td>\n",
       "      <td>Merchant</td>\n",
       "      <td>Amazon.in</td>\n",
       "      <td>Standard</td>\n",
       "      <td>Blazzer</td>\n",
       "      <td>L</td>\n",
       "      <td>On the Way</td>\n",
       "      <td>0</td>\n",
       "      <td>INR</td>\n",
       "      <td>753.33</td>\n",
       "      <td>PUDUCHERRY</td>\n",
       "      <td>PUDUCHERRY</td>\n",
       "      <td>605008.0</td>\n",
       "      <td>IN</td>\n",
       "      <td>False</td>\n",
       "      <td>Easy Ship</td>\n",
       "      <td>NaN</td>\n",
       "      <td>NaN</td>\n",
       "    </tr>\n",
       "    <tr>\n",
       "      <th>4</th>\n",
       "      <td>407-1069790-7240320</td>\n",
       "      <td>04-30-22</td>\n",
       "      <td>Shipped</td>\n",
       "      <td>Amazon</td>\n",
       "      <td>Amazon.in</td>\n",
       "      <td>Expedited</td>\n",
       "      <td>Trousers</td>\n",
       "      <td>3XL</td>\n",
       "      <td>Shipped</td>\n",
       "      <td>1</td>\n",
       "      <td>INR</td>\n",
       "      <td>574.00</td>\n",
       "      <td>CHENNAI</td>\n",
       "      <td>TAMIL NADU</td>\n",
       "      <td>600073.0</td>\n",
       "      <td>IN</td>\n",
       "      <td>False</td>\n",
       "      <td>NaN</td>\n",
       "      <td>NaN</td>\n",
       "      <td>NaN</td>\n",
       "    </tr>\n",
       "  </tbody>\n",
       "</table>\n",
       "</div>"
      ],
      "text/plain": [
       "                  Order ID      Date                        Status Fulfilment  \\\n",
       "index                                                                           \n",
       "0      405-8078784-5731545  04-30-22                     Cancelled   Merchant   \n",
       "1      171-9198151-1101146  04-30-22  Shipped - Delivered to Buyer   Merchant   \n",
       "2      404-0687676-7273146  04-30-22                       Shipped     Amazon   \n",
       "3      403-9615377-8133951  04-30-22                     Cancelled   Merchant   \n",
       "4      407-1069790-7240320  04-30-22                       Shipped     Amazon   \n",
       "\n",
       "      Sales Channel ship-service-level  Category Size Courier Status  Qty  \\\n",
       "index                                                                       \n",
       "0         Amazon.in           Standard   T-shirt    S     On the Way    0   \n",
       "1         Amazon.in           Standard     Shirt  3XL        Shipped    1   \n",
       "2         Amazon.in          Expedited     Shirt   XL        Shipped    1   \n",
       "3         Amazon.in           Standard   Blazzer    L     On the Way    0   \n",
       "4         Amazon.in          Expedited  Trousers  3XL        Shipped    1   \n",
       "\n",
       "      currency  Amount    ship-city   ship-state  ship-postal-code  \\\n",
       "index                                                                \n",
       "0          INR  647.62       MUMBAI  MAHARASHTRA          400081.0   \n",
       "1          INR  406.00    BENGALURU    KARNATAKA          560085.0   \n",
       "2          INR  329.00  NAVI MUMBAI  MAHARASHTRA          410210.0   \n",
       "3          INR  753.33   PUDUCHERRY   PUDUCHERRY          605008.0   \n",
       "4          INR  574.00      CHENNAI   TAMIL NADU          600073.0   \n",
       "\n",
       "      ship-country    B2B fulfilled-by  New  PendingS  \n",
       "index                                                  \n",
       "0               IN  False    Easy Ship  NaN       NaN  \n",
       "1               IN  False    Easy Ship  NaN       NaN  \n",
       "2               IN   True          NaN  NaN       NaN  \n",
       "3               IN  False    Easy Ship  NaN       NaN  \n",
       "4               IN  False          NaN  NaN       NaN  "
      ]
     },
     "execution_count": 110,
     "metadata": {},
     "output_type": "execute_result"
    }
   ],
   "source": [
    "df = pd.read_csv('/workspaces/Amazon_Sales_Dataset/Amazon Sale Report (1) (1).csv' , index_col = 'index')\n",
    "df.head()"
   ]
  },
  {
   "cell_type": "code",
   "execution_count": 111,
   "metadata": {},
   "outputs": [],
   "source": [
    "df.drop(['New','PendingS'], axis = 1, inplace=True)"
   ]
  },
  {
   "cell_type": "code",
   "execution_count": 112,
   "metadata": {},
   "outputs": [
    {
     "name": "stdout",
     "output_type": "stream",
     "text": [
      "<class 'pandas.core.frame.DataFrame'>\n",
      "Index: 128976 entries, 0 to 128974\n",
      "Data columns (total 18 columns):\n",
      " #   Column              Non-Null Count   Dtype  \n",
      "---  ------              --------------   -----  \n",
      " 0   Order ID            128976 non-null  object \n",
      " 1   Date                128976 non-null  object \n",
      " 2   Status              128976 non-null  object \n",
      " 3   Fulfilment          128976 non-null  object \n",
      " 4   Sales Channel       128976 non-null  object \n",
      " 5   ship-service-level  128976 non-null  object \n",
      " 6   Category            128976 non-null  object \n",
      " 7   Size                128976 non-null  object \n",
      " 8   Courier Status      128976 non-null  object \n",
      " 9   Qty                 128976 non-null  int64  \n",
      " 10  currency            121176 non-null  object \n",
      " 11  Amount              121176 non-null  float64\n",
      " 12  ship-city           128941 non-null  object \n",
      " 13  ship-state          128941 non-null  object \n",
      " 14  ship-postal-code    128941 non-null  float64\n",
      " 15  ship-country        128941 non-null  object \n",
      " 16  B2B                 128976 non-null  bool   \n",
      " 17  fulfilled-by        39263 non-null   object \n",
      "dtypes: bool(1), float64(2), int64(1), object(14)\n",
      "memory usage: 17.8+ MB\n"
     ]
    }
   ],
   "source": [
    "df.info()"
   ]
  },
  {
   "cell_type": "markdown",
   "metadata": {},
   "source": [
    "# EKSİK DATALARI GÖSTER"
   ]
  },
  {
   "cell_type": "code",
   "execution_count": 113,
   "metadata": {},
   "outputs": [
    {
     "data": {
      "text/plain": [
       "<bound method DataFrame.sum of         Order ID   Date  Status  Fulfilment  Sales Channel  \\\n",
       "index                                                        \n",
       "0          False  False   False       False          False   \n",
       "1          False  False   False       False          False   \n",
       "2          False  False   False       False          False   \n",
       "3          False  False   False       False          False   \n",
       "4          False  False   False       False          False   \n",
       "...          ...    ...     ...         ...            ...   \n",
       "128970     False  False   False       False          False   \n",
       "128971     False  False   False       False          False   \n",
       "128972     False  False   False       False          False   \n",
       "128973     False  False   False       False          False   \n",
       "128974     False  False   False       False          False   \n",
       "\n",
       "        ship-service-level  Category   Size  Courier Status    Qty  currency  \\\n",
       "index                                                                          \n",
       "0                    False     False  False           False  False     False   \n",
       "1                    False     False  False           False  False     False   \n",
       "2                    False     False  False           False  False     False   \n",
       "3                    False     False  False           False  False     False   \n",
       "4                    False     False  False           False  False     False   \n",
       "...                    ...       ...    ...             ...    ...       ...   \n",
       "128970               False     False  False           False  False     False   \n",
       "128971               False     False  False           False  False     False   \n",
       "128972               False     False  False           False  False     False   \n",
       "128973               False     False  False           False  False     False   \n",
       "128974               False     False  False           False  False     False   \n",
       "\n",
       "        Amount  ship-city  ship-state  ship-postal-code  ship-country    B2B  \\\n",
       "index                                                                          \n",
       "0        False      False       False             False         False  False   \n",
       "1        False      False       False             False         False  False   \n",
       "2        False      False       False             False         False  False   \n",
       "3        False      False       False             False         False  False   \n",
       "4        False      False       False             False         False  False   \n",
       "...        ...        ...         ...               ...           ...    ...   \n",
       "128970   False      False       False             False         False  False   \n",
       "128971   False      False       False             False         False  False   \n",
       "128972   False      False       False             False         False  False   \n",
       "128973   False      False       False             False         False  False   \n",
       "128974   False      False       False             False         False  False   \n",
       "\n",
       "        fulfilled-by  \n",
       "index                 \n",
       "0              False  \n",
       "1              False  \n",
       "2               True  \n",
       "3              False  \n",
       "4               True  \n",
       "...              ...  \n",
       "128970          True  \n",
       "128971          True  \n",
       "128972          True  \n",
       "128973          True  \n",
       "128974          True  \n",
       "\n",
       "[128976 rows x 18 columns]>"
      ]
     },
     "execution_count": 113,
     "metadata": {},
     "output_type": "execute_result"
    }
   ],
   "source": [
    "df.isnull().sum"
   ]
  },
  {
   "cell_type": "code",
   "execution_count": 114,
   "metadata": {},
   "outputs": [
    {
     "data": {
      "text/plain": [
       "128976"
      ]
     },
     "execution_count": 114,
     "metadata": {},
     "output_type": "execute_result"
    }
   ],
   "source": [
    "df.shape [0] #satır sayısını alır"
   ]
  },
  {
   "cell_type": "code",
   "execution_count": 115,
   "metadata": {},
   "outputs": [
    {
     "data": {
      "text/plain": [
       "18"
      ]
     },
     "execution_count": 115,
     "metadata": {},
     "output_type": "execute_result"
    }
   ],
   "source": [
    "df.shape [1] #sütun sayısını alır"
   ]
  },
  {
   "cell_type": "code",
   "execution_count": 116,
   "metadata": {},
   "outputs": [
    {
     "data": {
      "text/html": [
       "<div>\n",
       "<style scoped>\n",
       "    .dataframe tbody tr th:only-of-type {\n",
       "        vertical-align: middle;\n",
       "    }\n",
       "\n",
       "    .dataframe tbody tr th {\n",
       "        vertical-align: top;\n",
       "    }\n",
       "\n",
       "    .dataframe thead th {\n",
       "        text-align: right;\n",
       "    }\n",
       "</style>\n",
       "<table border=\"1\" class=\"dataframe\">\n",
       "  <thead>\n",
       "    <tr style=\"text-align: right;\">\n",
       "      <th></th>\n",
       "      <th>currency</th>\n",
       "      <th>Amount</th>\n",
       "    </tr>\n",
       "    <tr>\n",
       "      <th>index</th>\n",
       "      <th></th>\n",
       "      <th></th>\n",
       "    </tr>\n",
       "  </thead>\n",
       "  <tbody>\n",
       "    <tr>\n",
       "      <th>0</th>\n",
       "      <td>INR</td>\n",
       "      <td>647.62</td>\n",
       "    </tr>\n",
       "    <tr>\n",
       "      <th>1</th>\n",
       "      <td>INR</td>\n",
       "      <td>406.00</td>\n",
       "    </tr>\n",
       "    <tr>\n",
       "      <th>2</th>\n",
       "      <td>INR</td>\n",
       "      <td>329.00</td>\n",
       "    </tr>\n",
       "    <tr>\n",
       "      <th>3</th>\n",
       "      <td>INR</td>\n",
       "      <td>753.33</td>\n",
       "    </tr>\n",
       "    <tr>\n",
       "      <th>4</th>\n",
       "      <td>INR</td>\n",
       "      <td>574.00</td>\n",
       "    </tr>\n",
       "    <tr>\n",
       "      <th>...</th>\n",
       "      <td>...</td>\n",
       "      <td>...</td>\n",
       "    </tr>\n",
       "    <tr>\n",
       "      <th>128970</th>\n",
       "      <td>INR</td>\n",
       "      <td>517.00</td>\n",
       "    </tr>\n",
       "    <tr>\n",
       "      <th>128971</th>\n",
       "      <td>INR</td>\n",
       "      <td>999.00</td>\n",
       "    </tr>\n",
       "    <tr>\n",
       "      <th>128972</th>\n",
       "      <td>INR</td>\n",
       "      <td>690.00</td>\n",
       "    </tr>\n",
       "    <tr>\n",
       "      <th>128973</th>\n",
       "      <td>INR</td>\n",
       "      <td>1199.00</td>\n",
       "    </tr>\n",
       "    <tr>\n",
       "      <th>128974</th>\n",
       "      <td>INR</td>\n",
       "      <td>696.00</td>\n",
       "    </tr>\n",
       "  </tbody>\n",
       "</table>\n",
       "<p>128976 rows × 2 columns</p>\n",
       "</div>"
      ],
      "text/plain": [
       "       currency   Amount\n",
       "index                   \n",
       "0           INR   647.62\n",
       "1           INR   406.00\n",
       "2           INR   329.00\n",
       "3           INR   753.33\n",
       "4           INR   574.00\n",
       "...         ...      ...\n",
       "128970      INR   517.00\n",
       "128971      INR   999.00\n",
       "128972      INR   690.00\n",
       "128973      INR  1199.00\n",
       "128974      INR   696.00\n",
       "\n",
       "[128976 rows x 2 columns]"
      ]
     },
     "execution_count": 116,
     "metadata": {},
     "output_type": "execute_result"
    }
   ],
   "source": [
    "df[['currency','Amount']]"
   ]
  },
  {
   "cell_type": "code",
   "execution_count": 117,
   "metadata": {},
   "outputs": [
    {
     "data": {
      "text/plain": [
       "array(['INR', nan], dtype=object)"
      ]
     },
     "execution_count": 117,
     "metadata": {},
     "output_type": "execute_result"
    }
   ],
   "source": [
    "df ['currency'].unique()\n",
    "#currency sutunun full inr ile değeri içerdiğinden eksik verileri inr ile doldurabilirm"
   ]
  },
  {
   "cell_type": "code",
   "execution_count": 118,
   "metadata": {},
   "outputs": [
    {
     "name": "stderr",
     "output_type": "stream",
     "text": [
      "/tmp/ipykernel_17499/3534600569.py:1: FutureWarning: A value is trying to be set on a copy of a DataFrame or Series through chained assignment using an inplace method.\n",
      "The behavior will change in pandas 3.0. This inplace method will never work because the intermediate object on which we are setting values always behaves as a copy.\n",
      "\n",
      "For example, when doing 'df[col].method(value, inplace=True)', try using 'df.method({col: value}, inplace=True)' or df[col] = df[col].method(value) instead, to perform the operation inplace on the original object.\n",
      "\n",
      "\n",
      "  df ['currency'].fillna('INR',inplace=True)\n"
     ]
    }
   ],
   "source": [
    "df ['currency'].fillna('INR',inplace=True)"
   ]
  },
  {
   "cell_type": "code",
   "execution_count": 119,
   "metadata": {},
   "outputs": [
    {
     "data": {
      "text/plain": [
       "<bound method DataFrame.sum of         Order ID   Date  Status  Fulfilment  Sales Channel  \\\n",
       "index                                                        \n",
       "0          False  False   False       False          False   \n",
       "1          False  False   False       False          False   \n",
       "2          False  False   False       False          False   \n",
       "3          False  False   False       False          False   \n",
       "4          False  False   False       False          False   \n",
       "...          ...    ...     ...         ...            ...   \n",
       "128970     False  False   False       False          False   \n",
       "128971     False  False   False       False          False   \n",
       "128972     False  False   False       False          False   \n",
       "128973     False  False   False       False          False   \n",
       "128974     False  False   False       False          False   \n",
       "\n",
       "        ship-service-level  Category   Size  Courier Status    Qty  currency  \\\n",
       "index                                                                          \n",
       "0                    False     False  False           False  False     False   \n",
       "1                    False     False  False           False  False     False   \n",
       "2                    False     False  False           False  False     False   \n",
       "3                    False     False  False           False  False     False   \n",
       "4                    False     False  False           False  False     False   \n",
       "...                    ...       ...    ...             ...    ...       ...   \n",
       "128970               False     False  False           False  False     False   \n",
       "128971               False     False  False           False  False     False   \n",
       "128972               False     False  False           False  False     False   \n",
       "128973               False     False  False           False  False     False   \n",
       "128974               False     False  False           False  False     False   \n",
       "\n",
       "        Amount  ship-city  ship-state  ship-postal-code  ship-country    B2B  \\\n",
       "index                                                                          \n",
       "0        False      False       False             False         False  False   \n",
       "1        False      False       False             False         False  False   \n",
       "2        False      False       False             False         False  False   \n",
       "3        False      False       False             False         False  False   \n",
       "4        False      False       False             False         False  False   \n",
       "...        ...        ...         ...               ...           ...    ...   \n",
       "128970   False      False       False             False         False  False   \n",
       "128971   False      False       False             False         False  False   \n",
       "128972   False      False       False             False         False  False   \n",
       "128973   False      False       False             False         False  False   \n",
       "128974   False      False       False             False         False  False   \n",
       "\n",
       "        fulfilled-by  \n",
       "index                 \n",
       "0              False  \n",
       "1              False  \n",
       "2               True  \n",
       "3              False  \n",
       "4               True  \n",
       "...              ...  \n",
       "128970          True  \n",
       "128971          True  \n",
       "128972          True  \n",
       "128973          True  \n",
       "128974          True  \n",
       "\n",
       "[128976 rows x 18 columns]>"
      ]
     },
     "execution_count": 119,
     "metadata": {},
     "output_type": "execute_result"
    }
   ],
   "source": [
    "df.isnull().sum"
   ]
  },
  {
   "cell_type": "code",
   "execution_count": 120,
   "metadata": {},
   "outputs": [
    {
     "data": {
      "text/plain": [
       "count    121176.000000\n",
       "mean        648.562176\n",
       "std         281.185041\n",
       "min           0.000000\n",
       "25%         449.000000\n",
       "50%         605.000000\n",
       "75%         788.000000\n",
       "max        5584.000000\n",
       "Name: Amount, dtype: float64"
      ]
     },
     "execution_count": 120,
     "metadata": {},
     "output_type": "execute_result"
    }
   ],
   "source": [
    "df ['Amount'].describe()"
   ]
  },
  {
   "cell_type": "code",
   "execution_count": 121,
   "metadata": {},
   "outputs": [
    {
     "data": {
      "text/plain": [
       "np.float64(605.0)"
      ]
     },
     "execution_count": 121,
     "metadata": {},
     "output_type": "execute_result"
    }
   ],
   "source": [
    "amountMedian = df['Amount'].median()#amount sutununun ortanca degerini bulalım\n",
    "amountMedian"
   ]
  },
  {
   "cell_type": "code",
   "execution_count": 122,
   "metadata": {},
   "outputs": [
    {
     "name": "stderr",
     "output_type": "stream",
     "text": [
      "/tmp/ipykernel_17499/645397855.py:1: FutureWarning: A value is trying to be set on a copy of a DataFrame or Series through chained assignment using an inplace method.\n",
      "The behavior will change in pandas 3.0. This inplace method will never work because the intermediate object on which we are setting values always behaves as a copy.\n",
      "\n",
      "For example, when doing 'df[col].method(value, inplace=True)', try using 'df.method({col: value}, inplace=True)' or df[col] = df[col].method(value) instead, to perform the operation inplace on the original object.\n",
      "\n",
      "\n",
      "  df['Amount'].fillna(amountMedian, inplace =True)\n"
     ]
    },
    {
     "data": {
      "text/plain": [
       "np.int64(0)"
      ]
     },
     "execution_count": 122,
     "metadata": {},
     "output_type": "execute_result"
    }
   ],
   "source": [
    "df['Amount'].fillna(amountMedian, inplace =True)\n",
    "df['Amount'].isnull().sum()"
   ]
  },
  {
   "cell_type": "code",
   "execution_count": 123,
   "metadata": {},
   "outputs": [
    {
     "data": {
      "text/plain": [
       "Order ID                  0\n",
       "Date                      0\n",
       "Status                    0\n",
       "Fulfilment                0\n",
       "Sales Channel             0\n",
       "ship-service-level        0\n",
       "Category                  0\n",
       "Size                      0\n",
       "Courier Status            0\n",
       "Qty                       0\n",
       "currency                  0\n",
       "Amount                    0\n",
       "ship-city                35\n",
       "ship-state               35\n",
       "ship-postal-code         35\n",
       "ship-country             35\n",
       "B2B                       0\n",
       "fulfilled-by          89713\n",
       "dtype: int64"
      ]
     },
     "execution_count": 123,
     "metadata": {},
     "output_type": "execute_result"
    }
   ],
   "source": [
    "df.isnull().sum()"
   ]
  },
  {
   "cell_type": "code",
   "execution_count": 124,
   "metadata": {},
   "outputs": [
    {
     "data": {
      "text/plain": [
       "ship-city       object\n",
       "ship-state      object\n",
       "ship-country    object\n",
       "dtype: object"
      ]
     },
     "execution_count": 124,
     "metadata": {},
     "output_type": "execute_result"
    }
   ],
   "source": [
    "df [[\"ship-city\",\"ship-state\",\"ship-country\"]].dtypes"
   ]
  },
  {
   "cell_type": "code",
   "execution_count": 125,
   "metadata": {},
   "outputs": [],
   "source": [
    "def modAlma(sütun_ismi):\n",
    "    return df[sütun_ismi].mode()[0]"
   ]
  },
  {
   "cell_type": "code",
   "execution_count": 126,
   "metadata": {},
   "outputs": [],
   "source": [
    "ship_city_mod = modAlma(\"ship-city\")\n",
    "ship_state_mod = modAlma(\"ship-state\")\n",
    "ship_country_mod = modAlma(\"ship-country\")"
   ]
  },
  {
   "cell_type": "code",
   "execution_count": 127,
   "metadata": {},
   "outputs": [],
   "source": [
    "def str_eksik_veri_doldurma(sütun_ismi,method):\n",
    "    df[sütun_ismi].fillna(method, inplace = True)"
   ]
  },
  {
   "cell_type": "code",
   "execution_count": 128,
   "metadata": {},
   "outputs": [
    {
     "name": "stderr",
     "output_type": "stream",
     "text": [
      "/tmp/ipykernel_17499/2088135166.py:2: FutureWarning: A value is trying to be set on a copy of a DataFrame or Series through chained assignment using an inplace method.\n",
      "The behavior will change in pandas 3.0. This inplace method will never work because the intermediate object on which we are setting values always behaves as a copy.\n",
      "\n",
      "For example, when doing 'df[col].method(value, inplace=True)', try using 'df.method({col: value}, inplace=True)' or df[col] = df[col].method(value) instead, to perform the operation inplace on the original object.\n",
      "\n",
      "\n",
      "  df[sütun_ismi].fillna(method, inplace = True)\n"
     ]
    }
   ],
   "source": [
    "str_eksik_veri_doldurma(\"ship-city\",ship_city_mod)\n",
    "str_eksik_veri_doldurma(\"ship-state\",ship_state_mod)\n",
    "str_eksik_veri_doldurma(\"ship-country\",ship_country_mod)"
   ]
  },
  {
   "cell_type": "code",
   "execution_count": 129,
   "metadata": {},
   "outputs": [
    {
     "data": {
      "text/plain": [
       "Order ID                  0\n",
       "Date                      0\n",
       "Status                    0\n",
       "Fulfilment                0\n",
       "Sales Channel             0\n",
       "ship-service-level        0\n",
       "Category                  0\n",
       "Size                      0\n",
       "Courier Status            0\n",
       "Qty                       0\n",
       "currency                  0\n",
       "Amount                    0\n",
       "ship-city                 0\n",
       "ship-state                0\n",
       "ship-postal-code         35\n",
       "ship-country              0\n",
       "B2B                       0\n",
       "fulfilled-by          89713\n",
       "dtype: int64"
      ]
     },
     "execution_count": 129,
     "metadata": {},
     "output_type": "execute_result"
    }
   ],
   "source": [
    "df.isnull().sum()"
   ]
  },
  {
   "cell_type": "code",
   "execution_count": 130,
   "metadata": {},
   "outputs": [
    {
     "data": {
      "text/plain": [
       "index\n",
       "0         400081.0\n",
       "1         560085.0\n",
       "2         410210.0\n",
       "3         605008.0\n",
       "4         600073.0\n",
       "            ...   \n",
       "128970    500013.0\n",
       "128971    122004.0\n",
       "128972    500049.0\n",
       "128973    389350.0\n",
       "128974    492014.0\n",
       "Name: ship-postal-code, Length: 128976, dtype: float64"
      ]
     },
     "execution_count": 130,
     "metadata": {},
     "output_type": "execute_result"
    }
   ],
   "source": [
    "df[\"ship-postal-code\"] "
   ]
  },
  {
   "cell_type": "code",
   "execution_count": 137,
   "metadata": {},
   "outputs": [],
   "source": [
    "ship_postal_code_mod = modAlma(sütun_ismi='ship-postal-code')\n",
    "str_eksik_veri_doldurma(\"ship-postal-code\",ship_postal_code_mod)"
   ]
  },
  {
   "cell_type": "code",
   "execution_count": 138,
   "metadata": {},
   "outputs": [
    {
     "data": {
      "text/plain": [
       "Order ID                  0\n",
       "Date                      0\n",
       "Status                    0\n",
       "Fulfilment                0\n",
       "Sales Channel             0\n",
       "ship-service-level        0\n",
       "Category                  0\n",
       "Size                      0\n",
       "Courier Status            0\n",
       "Qty                       0\n",
       "currency                  0\n",
       "Amount                    0\n",
       "ship-city                 0\n",
       "ship-state                0\n",
       "ship-postal-code          0\n",
       "ship-country              0\n",
       "B2B                       0\n",
       "fulfilled-by          89713\n",
       "dtype: int64"
      ]
     },
     "execution_count": 138,
     "metadata": {},
     "output_type": "execute_result"
    }
   ],
   "source": [
    "df.isnull().sum()"
   ]
  },
  {
   "cell_type": "code",
   "execution_count": 139,
   "metadata": {},
   "outputs": [],
   "source": [
    "df.drop('fulfilled-by',axis=1,inplace=True)"
   ]
  },
  {
   "cell_type": "code",
   "execution_count": null,
   "metadata": {},
   "outputs": [],
   "source": []
  }
 ],
 "metadata": {
  "kernelspec": {
   "display_name": "sanal",
   "language": "python",
   "name": "python3"
  },
  "language_info": {
   "codemirror_mode": {
    "name": "ipython",
    "version": 3
   },
   "file_extension": ".py",
   "mimetype": "text/x-python",
   "name": "python",
   "nbconvert_exporter": "python",
   "pygments_lexer": "ipython3",
   "version": "3.12.1"
  }
 },
 "nbformat": 4,
 "nbformat_minor": 2
}
